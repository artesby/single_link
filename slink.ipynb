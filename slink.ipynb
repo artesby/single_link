{
 "cells": [
  {
   "cell_type": "markdown",
   "metadata": {},
   "source": [
    "Реализуйте максимально эффективным образом алгоритм иерархической кластеризации с алгоритмом объединения single-link clustering для точек, расположенных на прямой. Опишите алгоритм, а также найдите пример, когда подобный алгоритм показывает «плохие» результаты."
   ]
  },
  {
   "cell_type": "markdown",
   "metadata": {},
   "source": [
    "Описание алгоритма:\n",
    "\n",
    "Пусть дан массив _points_ точек в n-мерном пространстве, лежащих на одной прямой. \n",
    "\n",
    "Массив кластеров _clusters_ = $[0, 1, .. , k]$, в каждом кластере одна точка. Этот массив до конца алгоритма не меняется.\n",
    "\n",
    "Зафиксируем одну из координат пространства и отсортируем исходные точки по значению этой координаты. Например точки $(2, 0, -3), (-2, 6, 9), (0, 3, 4)$ - отсортированные по первой координате, будет $(-2, 6, 9), (0, 3, 4), (2, 0, 3)$. Получим массив точек $[p_0, p_1, .. , p_k]$. Пройдем по этому массиву и найдем расстояния между соседними точками _dists_ = $[d(p_0, p_1), d(p_1, p_2), .. , d(p_{k-1}, p_k)]$.\n",
    "\n",
    "Далее, на каждой итерации выбираем минимальный элемент из dists. Элемент на позиции _j_ соответствует расстоянию между точками $p_j$ и $p_{j+1}$. Сливаем кластеры, содержащие эти точки.\n",
    "\n",
    "Используется несколько вспомогательных массивов. \n",
    "\n",
    "_evolution_ - массив очередей. Когда мы сливаем сливаем кластеры двух точек $i$ и $j$ $(i < k, j < k)$ в новый кластер $s$ мы добавляем $s$ в очереди _evolution[i]_ и _evolution[j]_. \n",
    "\n",
    "_history_ - когда сливаем кластеры точек $i$ и $j$, добавляем в _history_ кортеж $(i, j, d(i, j))$.\n",
    "\n",
    "Чтобы восстановить дендрограмму:\n",
    "\n",
    "идем по массиву _history_. Когда сливаются $i$ и $j$, достаем элементы _evolution[i]_ и _evolution[j]_ - на момент этого слияния точки, которые изначально были в $i$ и $j$ кластере, находятся в кластерах _evolution[i]_ и _evolution[j]_.\n",
    "\n",
    "\n",
    "сложность:\n",
    "\n",
    "* сортировка исходных точек - O(nlogn)\n",
    "* посчитать _dists_ - O(n)\n",
    "* три цикла - O(n)\n",
    "* итого временная сложность O(nlogn)\n",
    "\n",
    "дополнительная память:\n",
    "* массивы $dists, clusters, evolution, history$ - все O(n)\n",
    "* итого O(n) дополнительной памяти.\n",
    "\n",
    "\n",
    "навеено идеей SLINK"
   ]
  },
  {
   "cell_type": "code",
   "execution_count": 13,
   "metadata": {},
   "outputs": [],
   "source": [
    "import numpy as np\n",
    "from queue import Queue\n",
    "\n",
    "#dissimilarity between points\n",
    "def dc(p1, p2):\n",
    "    return np.linalg.norm(p1-p2)\n",
    "\n",
    "#distances between adjacent points [points - sorted list]\n",
    "def point_dists(points):\n",
    "    return [dc(points[i], points[i+1]) for i in range(len(points)-1)]\n",
    "\n",
    "#linkage matrix\n",
    "def linkage(points):\n",
    "    # print(points)\n",
    "    linkage_matrix = []\n",
    "    n = len(points)\n",
    "    \n",
    "    points_argsort = np.argsort(points[:, 0])\n",
    "    points = points[points_argsort]\n",
    "    # print(points)\n",
    "    dists = point_dists(points)\n",
    "    dists_argsort = np.argsort(dists)\n",
    "\n",
    "    clusters = np.array(range(n))[points_argsort]\n",
    "    cluster_sizes = [1 for i in range(n)]\n",
    "    evolution = []\n",
    "    for i in range(n):\n",
    "        evolution.append(Queue())\n",
    "        evolution[i].put(i)\n",
    "\n",
    "    history = []\n",
    "\n",
    "    for i, min_id in enumerate(dists_argsort):\n",
    "        cl1, cl2 = clusters[min_id], clusters[min_id + 1]\n",
    "        evolution[cl1].put(n+i)\n",
    "        evolution[cl2].put(n+i)\n",
    "        history.append((cl1, cl2, dists[min_id]))\n",
    "\n",
    "    for i, h in enumerate(history):\n",
    "        cl1, cl2, d = evolution[h[0]].get(), evolution[h[1]].get(), h[2]\n",
    "        cluster_sizes.append(cluster_sizes[cl1] + cluster_sizes[cl2])\n",
    "        linkage_matrix.append([cl1, cl2, d, cluster_sizes[-1]])\n",
    "\n",
    "    return linkage_matrix"
   ]
  },
  {
   "cell_type": "code",
   "execution_count": null,
   "metadata": {},
   "outputs": [],
   "source": []
  },
  {
   "cell_type": "code",
   "execution_count": 14,
   "metadata": {},
   "outputs": [
    {
     "name": "stdout",
     "output_type": "stream",
     "text": [
      "[[ 2.          7.          0.          2.        ]\n",
      " [ 5.          6.          0.          2.        ]\n",
      " [ 8.          4.          3.31662479  3.        ]\n",
      " [10.          0.          3.31662479  4.        ]\n",
      " [ 1.          9.          3.31662479  3.        ]\n",
      " [11.          3.          6.63324958  5.        ]\n",
      " [13.         12.         13.26649916  8.        ]]\n"
     ]
    }
   ],
   "source": [
    "points = np.array([[3*i, i, i] for i in [2, 8, 0, 4, 1, 9, 9, 0]])\n",
    "print(np.array(linkage(points)))"
   ]
  },
  {
   "cell_type": "code",
   "execution_count": 12,
   "metadata": {},
   "outputs": [
    {
     "name": "stdout",
     "output_type": "stream",
     "text": [
      "[[ 2.          7.          0.          2.        ]\n",
      " [ 5.          6.          0.          2.        ]\n",
      " [ 0.          4.          3.31662479  2.        ]\n",
      " [ 8.         10.          3.31662479  4.        ]\n",
      " [ 1.          9.          3.31662479  3.        ]\n",
      " [ 3.         11.          6.63324958  5.        ]\n",
      " [12.         13.         13.26649916  8.        ]]\n"
     ]
    }
   ],
   "source": [
    "from scipy.cluster.hierarchy import linkage as scipy_linkage\n",
    "\n",
    "Z = scipy_linkage(points, 'single')\n",
    "print(Z)"
   ]
  },
  {
   "cell_type": "code",
   "execution_count": null,
   "metadata": {},
   "outputs": [],
   "source": []
  }
 ],
 "metadata": {
  "kernelspec": {
   "display_name": "Python 3",
   "language": "python",
   "name": "python3"
  },
  "language_info": {
   "codemirror_mode": {
    "name": "ipython",
    "version": 3
   },
   "file_extension": ".py",
   "mimetype": "text/x-python",
   "name": "python",
   "nbconvert_exporter": "python",
   "pygments_lexer": "ipython3",
   "version": "3.7.3"
  }
 },
 "nbformat": 4,
 "nbformat_minor": 2
}
